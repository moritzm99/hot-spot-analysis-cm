{
 "cells": [
  {
   "cell_type": "markdown",
   "id": "f998432d-ed63-4aa5-8a60-2fc0ee479f27",
   "metadata": {},
   "source": [
    "# Notebook for automated multi-year data visualization from copernicus marine server"
   ]
  },
  {
   "cell_type": "markdown",
   "id": "8d3529e8-b621-405e-82ad-3e8600f2323e",
   "metadata": {},
   "source": [
    "## Dependencies"
   ]
  },
  {
   "cell_type": "markdown",
   "id": "c7e49020-0fa5-4e70-9597-4393dee3b7e4",
   "metadata": {},
   "source": [
    "**Libraries**"
   ]
  },
  {
   "cell_type": "code",
   "execution_count": 1,
   "id": "5666148c-471b-4d32-9052-7a7a5a44acb5",
   "metadata": {
    "tags": []
   },
   "outputs": [],
   "source": [
    "# necessary libraries to run this NOTEBOOK\n",
    "# if not already installed, install via conda-forge channel using Ana(Mini)conda, Micromamba or pip\n",
    "import copernicusmarine\n",
    "import pandas as pd\n",
    "import geopandas as gpd\n",
    "import matplotlib.pyplot as plt\n",
    "import xarray as xr\n",
    "import numpy as np\n",
    "from esda.getisord import G_Local\n",
    "from libpysal.weights import Queen\n",
    "from pyproj import CRS\n",
    "import contextily as ctx\n",
    "import rioxarray as rio\n",
    "import rasterio\n",
    "import pathlib\n",
    "from shapely.geometry import Point\n",
    "import folium\n",
    "import os"
   ]
  },
  {
   "cell_type": "code",
   "execution_count": 2,
   "id": "cd015156-3477-49cb-aa74-ca70a4d30fa4",
   "metadata": {},
   "outputs": [],
   "source": [
    "# retrieving realtive paths\n",
    "NOTEBOOK_DIRECTORY = pathlib.Path().resolve()\n",
    "OUTPUT_DIRECTORY = NOTEBOOK_DIRECTORY / \"output\"\n",
    "\n",
    "os.makedirs(OUTPUT_DIRECTORY, exist_ok=True)"
   ]
  },
  {
   "cell_type": "code",
   "execution_count": 3,
   "id": "a6c9d583-96bc-4efa-9213-5e45bd584ff1",
   "metadata": {
    "tags": []
   },
   "outputs": [],
   "source": [
    "#getting info about copernicus marine data retrieval\n",
    "#copernicusmarine.open_dataset?"
   ]
  },
  {
   "cell_type": "markdown",
   "id": "763bcc31-af9b-4dc3-95c3-9ee24c7e5817",
   "metadata": {},
   "source": [
    "**Functions**"
   ]
  },
  {
   "cell_type": "code",
   "execution_count": 4,
   "id": "d783fc22-f03d-41d5-940d-2aeec7ffd012",
   "metadata": {},
   "outputs": [],
   "source": [
    "# function for fetching copernicus dataset from the server \n",
    "def get_cm_dataset(start, end):\n",
    "    return copernicusmarine.open_dataset(\n",
    "        dataset_id=\"SST_MED_SST_L3S_NRT_OBSERVATIONS_010_012_b\", # default: product ID for sea surface temperature, change if desired\n",
    "        variables=[\"adjusted_sea_surface_temperature\"],\n",
    "        minimum_longitude=19.22659983450641, # default: bounding box for the whole agean, change if desired \n",
    "        maximum_longitude=28.439441984120553,\n",
    "        minimum_latitude=34.62160284496615,\n",
    "        maximum_latitude=40.9634662781889,\n",
    "        start_datetime=start,\n",
    "        end_datetime=end,\n",
    "    )"
   ]
  },
  {
   "cell_type": "code",
   "execution_count": 5,
   "id": "aabfefc3-20a6-46bf-9282-a2d73c5306eb",
   "metadata": {},
   "outputs": [],
   "source": [
    "# function for pre-processing fetched dataset\n",
    "def sst_pre_processing(dataset):\n",
    "    # renaming data variable\n",
    "    dataset = dataset.rename({\"adjusted_sea_surface_temperature\": \"sst\"})\n",
    "    # converting Kelvin to Celsius\n",
    "    dataset[\"sst\"] = dataset[\"sst\"]-273.15\n",
    "\n",
    "    return dataset"
   ]
  },
  {
   "cell_type": "code",
   "execution_count": 6,
   "id": "ad17697e-f5bf-4559-a703-36331d9c6163",
   "metadata": {},
   "outputs": [],
   "source": [
    "# function for calculating basic stats on sst\n",
    "def sst_bstats(dataset_preprocessed):\n",
    "    # computing mean\n",
    "    sst_mean = dataset_preprocessed[\"sst\"].mean(dim=\"time\", skipna=True) # collapsing the 3D dataset to 2D by calculating the mean over time \n",
    "    # computing median\n",
    "    sst_median = dataset_preprocessed[\"sst\"].median(dim=\"time\", skipna=True)\n",
    "\n",
    "    return sst_mean, sst_median"
   ]
  },
  {
   "cell_type": "markdown",
   "id": "e1bc726d-d0db-4da3-a207-20b581daa5c2",
   "metadata": {},
   "source": [
    "**Commands to explore metadata**"
   ]
  },
  {
   "cell_type": "code",
   "execution_count": 7,
   "id": "f49f0ac9-d9a8-4adb-b559-e76e313e7ae9",
   "metadata": {
    "tags": []
   },
   "outputs": [],
   "source": [
    "# getting metadata about xarray dataset\n",
    "#dataset.info()"
   ]
  },
  {
   "cell_type": "code",
   "execution_count": 8,
   "id": "0707df83-1509-49ed-9cd8-337c7cd6d63f",
   "metadata": {
    "tags": []
   },
   "outputs": [],
   "source": [
    "# getting data variables \n",
    "#print(dataset.data_vars)"
   ]
  },
  {
   "cell_type": "code",
   "execution_count": 9,
   "id": "48eb0b7d-f30e-4502-99c7-5c692320b615",
   "metadata": {
    "tags": []
   },
   "outputs": [],
   "source": [
    "#type(dataset_s24)"
   ]
  },
  {
   "cell_type": "code",
   "execution_count": 10,
   "id": "f8399c27-3979-4a16-9689-40e245d419e7",
   "metadata": {},
   "outputs": [],
   "source": [
    "# getting dataset attributes\n",
    "#dataset.attrs"
   ]
  },
  {
   "cell_type": "markdown",
   "id": "2359a42c-a7a7-4b2d-98c5-06252e28fffa",
   "metadata": {},
   "source": [
    "## Import"
   ]
  },
  {
   "cell_type": "code",
   "execution_count": 9,
   "id": "d8fd633f-f9d2-4e47-bc02-5c29350ce7b3",
   "metadata": {},
   "outputs": [
    {
     "name": "stderr",
     "output_type": "stream",
     "text": [
      "INFO - 2025-03-06T13:04:09Z - Selected dataset version: \"202311\"\n",
      "INFO - 2025-03-06T13:04:09Z - Selected dataset part: \"default\"\n",
      "INFO - 2025-03-06T13:04:15Z - Selected dataset version: \"202311\"\n",
      "INFO - 2025-03-06T13:04:15Z - Selected dataset part: \"default\"\n",
      "INFO - 2025-03-06T13:04:23Z - Selected dataset version: \"202311\"\n",
      "INFO - 2025-03-06T13:04:23Z - Selected dataset part: \"default\"\n",
      "INFO - 2025-03-06T13:04:31Z - Selected dataset version: \"202311\"\n",
      "INFO - 2025-03-06T13:04:31Z - Selected dataset part: \"default\"\n"
     ]
    }
   ],
   "source": [
    "# list with start and end dates organised as tuples\n",
    "dates = [(\"2021-05-01T00:00:00\", \"2021-10-31T00:00:00\"), \n",
    "         (\"2022-05-01T00:00:00\", \"2022-10-31T00:00:00\"), \n",
    "         (\"2023-05-01T00:00:00\", \"2023-10-31T00:00:00\"),\n",
    "         (\"2024-05-01T00:00:00\", \"2024-10-31T00:00:00\")]\n",
    "\n",
    "# Dictionary to store datasets by year\n",
    "datasets = {}\n",
    "\n",
    "# Loop over dates, call import function and store datasets in dictionary\n",
    "for year, (start, end) in zip(range(2021, 2025), dates):\n",
    "    datasets[year] = get_cm_dataset(start, end) # year is the key to access a year specific data range (May to October in this case)"
   ]
  },
  {
   "cell_type": "markdown",
   "id": "1790d664-6346-4894-89b9-bd339533d354",
   "metadata": {},
   "source": [
    "## Processing"
   ]
  },
  {
   "cell_type": "code",
   "execution_count": 10,
   "id": "ee20bcb5-7cea-4c8d-a3e9-c9fde40caac9",
   "metadata": {},
   "outputs": [],
   "source": [
    "# Update datasets with preprocessed values by calling function\n",
    "datasets = {year: sst_pre_processing(ds) for year, ds in datasets.items()} # dictionary comprehension, pre_processing dictionary while looping"
   ]
  },
  {
   "cell_type": "code",
   "execution_count": 12,
   "id": "a8634b17-c662-4fea-abfa-7ae9a4987ac1",
   "metadata": {},
   "outputs": [],
   "source": [
    "# Dictionary to store computed SST statistics\n",
    "sst_stats = {}\n",
    "\n",
    "# Loop over datasets, compute statistics, and store in new dictionary\n",
    "for year, dataset in datasets.items():\n",
    "    sst_mean, sst_median = sst_bstats(dataset)  # Apply function\n",
    "    sst_stats[year] = {\"mean\": sst_mean, \"median\": sst_median}  # Store results (Datasets are now collapsed to 2D and now stored in form of a DataArray (not Dataset anymore))"
   ]
  },
  {
   "cell_type": "code",
   "execution_count": 13,
   "id": "a23b301f-5ff3-4209-9e58-2c88714a7f59",
   "metadata": {},
   "outputs": [
    {
     "name": "stderr",
     "output_type": "stream",
     "text": [
      "/Users/moritzmuhlbauer/micromamba/envs/copernicusmarine/lib/python3.13/site-packages/dask/_task_spec.py:740: RuntimeWarning: All-NaN slice encountered\n",
      "  return self.func(*new_argspec, **kwargs)\n",
      "/Users/moritzmuhlbauer/micromamba/envs/copernicusmarine/lib/python3.13/site-packages/dask/_task_spec.py:740: RuntimeWarning: All-NaN slice encountered\n",
      "  return self.func(*new_argspec, **kwargs)\n",
      "/Users/moritzmuhlbauer/micromamba/envs/copernicusmarine/lib/python3.13/site-packages/dask/_task_spec.py:740: RuntimeWarning: All-NaN slice encountered\n",
      "  return self.func(*new_argspec, **kwargs)\n",
      "/Users/moritzmuhlbauer/micromamba/envs/copernicusmarine/lib/python3.13/site-packages/dask/_task_spec.py:740: RuntimeWarning: All-NaN slice encountered\n",
      "  return self.func(*new_argspec, **kwargs)\n"
     ]
    }
   ],
   "source": [
    "# Dictionary to store GeoDataFrames\n",
    "sst_stats_gdf = {}\n",
    "\n",
    "# Loop over computed SST stats\n",
    "for year, stats in sst_stats.items(): # year = key of dictionary, stats= data/values stored accessible with key \n",
    "    # Convert mean SST to DataFrame and reset index\n",
    "    df_mean = stats[\"mean\"].to_dataframe(name=\"Mean SST\").reset_index()\n",
    "    df_median = stats[\"median\"].to_dataframe(name=\"Median SST\").reset_index()\n",
    "    \n",
    "    # Merge mean and median DataFrames on latitude & longitude\n",
    "    df = df_mean.join(df_median.set_index([\"latitude\", \"longitude\"]), on=[\"latitude\", \"longitude\"])\n",
    "    \n",
    "    # Drop NaNs\n",
    "    df = df.dropna()\n",
    "\n",
    "    # Convert to GeoDataFrame\n",
    "    gdf = gpd.GeoDataFrame(\n",
    "        df,\n",
    "        geometry=[Point(xy) for xy in zip(df[\"longitude\"], df[\"latitude\"])],  # Create geometry column\n",
    "        crs=\"EPSG:4326\"  # Set coordinate reference system (WGS 84)\n",
    "    )\n",
    "\n",
    "    # Add a unique Geo-ID for Folium (based on index)\n",
    "    gdf[\"geoid\"] = gdf.index.astype(str)\n",
    "\n",
    "    # Store in dictionary\n",
    "    sst_stats_gdf[year] = gdf"
   ]
  },
  {
   "cell_type": "code",
   "execution_count": 23,
   "id": "3fcc6650-3af0-469b-8fd9-e45dead8088b",
   "metadata": {},
   "outputs": [
    {
     "name": "stdout",
     "output_type": "stream",
     "text": [
      "Mean SST map for 2021 successfully saved to /Users/moritzmuhlbauer/Copernicus/output/sst_mean_2021.png\n",
      "Median SST map for 2021 successfully saved to /Users/moritzmuhlbauer/Copernicus/output/sst_median_2021.png\n",
      "Mean SST map for 2022 successfully saved to /Users/moritzmuhlbauer/Copernicus/output/sst_mean_2022.png\n",
      "Median SST map for 2022 successfully saved to /Users/moritzmuhlbauer/Copernicus/output/sst_median_2022.png\n",
      "Mean SST map for 2023 successfully saved to /Users/moritzmuhlbauer/Copernicus/output/sst_mean_2023.png\n",
      "Median SST map for 2023 successfully saved to /Users/moritzmuhlbauer/Copernicus/output/sst_median_2023.png\n",
      "Mean SST map for 2024 successfully saved to /Users/moritzmuhlbauer/Copernicus/output/sst_mean_2024.png\n",
      "Median SST map for 2024 successfully saved to /Users/moritzmuhlbauer/Copernicus/output/sst_median_2024.png\n"
     ]
    }
   ],
   "source": [
    "# Loop through the years and generate separate static maps for Mean & Median SST\n",
    "for year, gdf in sst_stats_gdf.items():\n",
    "    # Reproject to Web Mercator (EPSG:3857) for compatibility with basemap\n",
    "    gdf = gdf.to_crs(epsg=3857)\n",
    "\n",
    "    # --- Mean SST Map ---\n",
    "    fig, ax = plt.subplots(figsize=(10, 6))\n",
    "\n",
    "    # Plot points with very small marker size\n",
    "    sc = gdf.plot(\n",
    "        ax=ax, \n",
    "        column=\"Mean SST\", \n",
    "        cmap=\"RdBu_r\",  \n",
    "        markersize=1,  \n",
    "        legend=True,\n",
    "        alpha=0.8\n",
    "    )\n",
    "\n",
    "    # basemap, check the offering by running ctx.providers.keys()\n",
    "    ctx.add_basemap(ax, source=ctx.providers.Esri.WorldImagery, attribution=\"\")  \n",
    "\n",
    "    ax.set_title(f\"Mean Sea Surface Temperature May - October / ({year})\", fontsize=14)\n",
    "    ax.set_xlabel(\"Longitude\")\n",
    "    ax.set_ylabel(\"Latitude\")\n",
    "\n",
    "    # Adjust colorbar label\n",
    "    cbar = sc.get_figure().get_axes()[1]  # Get colorbar\n",
    "    cbar.set_ylabel(\"C°\")  # Add temperature unit\n",
    "\n",
    "    # Save Mean SST Map with DPI 600\n",
    "    mean_output_file = os.path.join(OUTPUT_DIRECTORY, f\"sst_mean_{year}.png\")\n",
    "    plt.savefig(mean_output_file, dpi=600, bbox_inches=\"tight\")  # ✅ High-resolution 600 DPI\n",
    "    plt.close(fig)  # Close the figure to free memory\n",
    "    print(f\"Mean SST map for {year} successfully saved to {mean_output_file}\")\n",
    "\n",
    "    # --- Median SST Map ---\n",
    "    fig, ax = plt.subplots(figsize=(10, 6))\n",
    "\n",
    "    # Plot points with very small marker size\n",
    "    sc = gdf.plot(\n",
    "        ax=ax, \n",
    "        column=\"Median SST\", \n",
    "        cmap=\"RdBu_r\",  \n",
    "        markersize=1,  \n",
    "        legend=True,\n",
    "        alpha=0.8\n",
    "    )\n",
    "\n",
    "    ctx.add_basemap(ax, source=ctx.providers.Esri.WorldImagery, attribution=\"\")  \n",
    "\n",
    "    ax.set_title(f\"Median Sea Surface Temperature May- October ({year})\", fontsize=14)\n",
    "    ax.set_xlabel(\"Longitude\")\n",
    "    ax.set_ylabel(\"Latitude\")\n",
    "\n",
    "    # Adjust colorbar label\n",
    "    cbar = sc.get_figure().get_axes()[1]  # Get colorbar\n",
    "    cbar.set_ylabel(\"C°\")  # Add temperature unit\n",
    "\n",
    "    # Save Median SST Map with DPI 600\n",
    "    median_output_file = os.path.join(OUTPUT_DIRECTORY, f\"sst_median_{year}.png\")\n",
    "    plt.savefig(median_output_file, dpi=600, bbox_inches=\"tight\")  # ✅ High-resolution 600 DPI\n",
    "    plt.close(fig)  # Close the figure to free memory\n",
    "    print(f\"Median SST map for {year} successfully saved to {median_output_file}\")\n"
   ]
  },
  {
   "cell_type": "code",
   "execution_count": null,
   "id": "feabe021-76e7-45ea-9f83-d96503913e30",
   "metadata": {},
   "outputs": [],
   "source": []
  }
 ],
 "metadata": {
  "kernelspec": {
   "display_name": "Python (CMT_Kernel)",
   "language": "python",
   "name": "copernicusmarine"
  },
  "language_info": {
   "codemirror_mode": {
    "name": "ipython",
    "version": 3
   },
   "file_extension": ".py",
   "mimetype": "text/x-python",
   "name": "python",
   "nbconvert_exporter": "python",
   "pygments_lexer": "ipython3",
   "version": "3.13.1"
  }
 },
 "nbformat": 4,
 "nbformat_minor": 5
}
